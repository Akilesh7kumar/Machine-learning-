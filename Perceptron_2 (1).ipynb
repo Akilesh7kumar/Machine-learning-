{
 "cells": [
  {
   "cell_type": "code",
   "execution_count": 1,
   "metadata": {},
   "outputs": [],
   "source": [
    "from sklearn.neural_network import MLPClassifier\n",
    "X1=[[0.,0.],[0.,1.],[1.,0.],[1.,1.]]\n",
    "y1=[0,0,0,1]\n",
    "clf=MLPClassifier(solver='lbfgs',alpha=1e-5,hidden_layer_sizes=(5,2),random_state=1)"
   ]
  },
  {
   "cell_type": "code",
   "execution_count": 3,
   "metadata": {},
   "outputs": [
    {
     "name": "stdout",
     "output_type": "stream",
     "text": [
      "MLPClassifier(activation='relu', alpha=1e-05, batch_size='auto', beta_1=0.9,\n",
      "              beta_2=0.999, early_stopping=False, epsilon=1e-08,\n",
      "              hidden_layer_sizes=(5, 2), learning_rate='constant',\n",
      "              learning_rate_init=0.001, max_fun=15000, max_iter=200,\n",
      "              momentum=0.9, n_iter_no_change=10, nesterovs_momentum=True,\n",
      "              power_t=0.5, random_state=1, shuffle=True, solver='lbfgs',\n",
      "              tol=0.0001, validation_fraction=0.1, verbose=False,\n",
      "              warm_start=False)\n"
     ]
    }
   ],
   "source": [
    "print(clf.fit(X1,y1))"
   ]
  },
  {
   "cell_type": "code",
   "execution_count": 4,
   "metadata": {},
   "outputs": [
    {
     "name": "stdout",
     "output_type": "stream",
     "text": [
      "weights between input and first hidden layer:\n",
      "[[-0.14203691 -1.18304359 -0.85567518 -4.53250719 -0.60466275]\n",
      " [-0.69781111 -3.5850093  -0.26436018 -4.39161248  0.06644423]]\n",
      "\n",
      "weights between firsthidden and second hidden layer:\n",
      "[[ 0.29179638 -0.14155284]\n",
      " [ 4.02666592 -0.61556475]\n",
      " [-0.51677234  0.51479708]\n",
      " [ 7.37215202 -0.31936965]\n",
      " [ 0.32920668  0.64428109]]\n"
     ]
    }
   ],
   "source": [
    "print(\"weights between input and first hidden layer:\")\n",
    "print(clf.coefs_[0])\n",
    "print(\"\\nweights between firsthidden and second hidden layer:\")\n",
    "print(clf.coefs_[1])"
   ]
  },
  {
   "cell_type": "code",
   "execution_count": 5,
   "metadata": {},
   "outputs": [
    {
     "name": "stdout",
     "output_type": "stream",
     "text": [
      "w0=  -0.14203691267827165\n",
      "w1=  -0.6978111149778683\n"
     ]
    }
   ],
   "source": [
    "print(\"w0= \",clf.coefs_[0][0][0])\n",
    "print(\"w1= \",clf.coefs_[0][1][0])"
   ]
  },
  {
   "cell_type": "code",
   "execution_count": 13,
   "metadata": {},
   "outputs": [
    {
     "name": "stdout",
     "output_type": "stream",
     "text": [
      "0 0 [-0.14203691 -0.69781111], \n",
      "0 1 [-1.18304359 -3.5850093 ], \n",
      "0 2 [-0.85567518 -0.26436018], \n",
      "0 3 [-4.53250719 -4.39161248], \n",
      "0 4 [-0.60466275  0.06644423], \n",
      "\n",
      "1 0 [ 0.29179638  4.02666592 -0.51677234  7.37215202  0.32920668], \n",
      "1 1 [-0.14155284 -0.61556475  0.51479708 -0.31936965  0.64428109], \n",
      "\n",
      "2 0 [-4.96774269 -0.86330397], \n",
      "\n"
     ]
    }
   ],
   "source": [
    "clf.coefs_[0][:,0]\n",
    "for i in range(len(clf.coefs_)):\n",
    "    number_neurons_in_layer=clf.coefs_[i].shape[1]\n",
    "    for j in range(number_neurons_in_layer):\n",
    "        weights=clf.coefs_[i][:,j]\n",
    "        print(i,j,weights,end=\", \")\n",
    "        print()\n",
    "    print()    "
   ]
  },
  {
   "cell_type": "code",
   "execution_count": 7,
   "metadata": {},
   "outputs": [
    {
     "name": "stdout",
     "output_type": "stream",
     "text": [
      "Bias values for first hidden layer:\n",
      "[-0.14962269 -0.59232707 -0.5472481   7.02667699 -0.87510813]\n",
      "\n",
      "Bias values for second hidden layer:\n",
      "[-3.61417672 -0.76834882]\n"
     ]
    }
   ],
   "source": [
    "print(\"Bias values for first hidden layer:\")\n",
    "print(clf.intercepts_[0])\n",
    "print(\"\\nBias values for second hidden layer:\")\n",
    "print(clf.intercepts_[1])"
   ]
  },
  {
   "cell_type": "code",
   "execution_count": 8,
   "metadata": {},
   "outputs": [
    {
     "name": "stdout",
     "output_type": "stream",
     "text": [
      "[0 0 0 0 1 1 1 1]\n"
     ]
    }
   ],
   "source": [
    "values=[[0,0],[0,1],[1,0],[0,1],[1,1],[2.,2.],[1.3,1.3],[2,4.8]]\n",
    "result=clf.predict(values)\n",
    "print(result)"
   ]
  },
  {
   "cell_type": "code",
   "execution_count": 16,
   "metadata": {},
   "outputs": [
    {
     "name": "stdout",
     "output_type": "stream",
     "text": [
      "[[1.00000000e+000 5.25723951e-101]\n",
      " [1.00000000e+000 3.71534882e-031]\n",
      " [1.00000000e+000 6.47069178e-029]\n",
      " [1.00000000e+000 3.71534882e-031]\n",
      " [2.07145538e-004 9.99792854e-001]\n",
      " [2.07145538e-004 9.99792854e-001]\n",
      " [2.07145538e-004 9.99792854e-001]\n",
      " [2.07145538e-004 9.99792854e-001]]\n"
     ]
    }
   ],
   "source": [
    "prob_results=clf.predict_proba([[0,0],[0,1],[1,0],[0,1],[1,1],[2.,2.],[1.3,1.3],[2,4.8]])\n",
    "print(prob_results)"
   ]
  },
  {
   "cell_type": "code",
   "execution_count": 2,
   "metadata": {},
   "outputs": [],
   "source": [
    "X1=[[0.,0.],[0.,1.],[1.,0.],[1.,1.]]\n",
    "y1=[0,1,1,1]\n",
    "clf=MLPClassifier(solver='lbfgs',alpha=1e-5,hidden_layer_sizes=(5,2),random_state=1)\n",
    "print(clf.fit(X1,y1))"
   ]
  },
  {
   "cell_type": "code",
   "execution_count": 3,
   "metadata": {},
   "outputs": [
    {
     "name": "stdout",
     "output_type": "stream",
     "text": [
      "MLPClassifier(activation='relu', alpha=1e-05, batch_size='auto', beta_1=0.9,\n",
      "              beta_2=0.999, early_stopping=False, epsilon=1e-08,\n",
      "              hidden_layer_sizes=(5, 2), learning_rate='constant',\n",
      "              learning_rate_init=0.001, max_fun=15000, max_iter=200,\n",
      "              momentum=0.9, n_iter_no_change=10, nesterovs_momentum=True,\n",
      "              power_t=0.5, random_state=1, shuffle=True, solver='lbfgs',\n",
      "              tol=0.0001, validation_fraction=0.1, verbose=False,\n",
      "              warm_start=False)\n"
     ]
    }
   ],
   "source": [
    "print(clf.fit(X1,y1))"
   ]
  },
  {
   "cell_type": "code",
   "execution_count": 4,
   "metadata": {},
   "outputs": [
    {
     "name": "stdout",
     "output_type": "stream",
     "text": [
      "weights between input and first hidden layer:\n",
      "[[-0.1397972   0.34983581 -0.84218241 -5.30782901 -0.59512809]\n",
      " [-0.68680764 -0.52912416 -0.2601916  -5.77300536  0.0653965 ]]\n",
      "\n",
      "weights between firsthidden and second hidden layer:\n",
      "[[ 0.28719517 -0.13932075]\n",
      " [-0.32497786 -0.60585818]\n",
      " [-0.50862358  0.50667948]\n",
      " [ 7.92649262 -0.31433366]\n",
      " [ 0.32401557  0.6341217 ]]\n"
     ]
    }
   ],
   "source": [
    "print(\"weights between input and first hidden layer:\")\n",
    "print(clf.coefs_[0])\n",
    "print(\"\\nweights between firsthidden and second hidden layer:\")\n",
    "print(clf.coefs_[1])"
   ]
  },
  {
   "cell_type": "code",
   "execution_count": 5,
   "metadata": {},
   "outputs": [
    {
     "name": "stdout",
     "output_type": "stream",
     "text": [
      "w0=  -0.13979719502314902\n",
      "w1=  -0.686807638172543\n"
     ]
    }
   ],
   "source": [
    "print(\"w0= \",clf.coefs_[0][0][0])\n",
    "print(\"w1= \",clf.coefs_[0][1][0])"
   ]
  },
  {
   "cell_type": "code",
   "execution_count": 6,
   "metadata": {},
   "outputs": [
    {
     "name": "stdout",
     "output_type": "stream",
     "text": [
      "0 0 [-0.1397972  -0.68680764], \n",
      "0 1 [ 0.34983581 -0.52912416], \n",
      "0 2 [-0.84218241 -0.2601916 ], \n",
      "0 3 [-5.30782901 -5.77300536], \n",
      "0 4 [-0.59512809  0.0653965 ], \n",
      "\n",
      "1 0 [ 0.28719517 -0.32497786 -0.50862358  7.92649262  0.32401557], \n",
      "1 1 [-0.13932075 -0.60585818  0.50667948 -0.31433366  0.6341217 ], \n",
      "\n",
      "2 0 [-5.83404052 -0.84969091], \n",
      "\n"
     ]
    }
   ],
   "source": [
    "clf.coefs_[0][:,0]\n",
    "for i in range(len(clf.coefs_)):\n",
    "    number_neurons_in_layer=clf.coefs_[i].shape[1]\n",
    "    for j in range(number_neurons_in_layer):\n",
    "        weights=clf.coefs_[i][:,j]\n",
    "        print(i,j,weights,end=\", \")\n",
    "        print()\n",
    "    print()    "
   ]
  },
  {
   "cell_type": "code",
   "execution_count": 7,
   "metadata": {},
   "outputs": [
    {
     "name": "stdout",
     "output_type": "stream",
     "text": [
      "Bias values for first hidden layer:\n",
      "[-0.14962269  0.16879757 -0.5472481   5.24282453 -0.87510813]\n",
      "\n",
      "Bias values for second hidden layer:\n",
      "[-5.1406499  -0.76834882]\n"
     ]
    }
   ],
   "source": [
    "print(\"Bias values for first hidden layer:\")\n",
    "print(clf.intercepts_[0])\n",
    "print(\"\\nBias values for second hidden layer:\")\n",
    "print(clf.intercepts_[1])"
   ]
  },
  {
   "cell_type": "code",
   "execution_count": 8,
   "metadata": {},
   "outputs": [
    {
     "name": "stdout",
     "output_type": "stream",
     "text": [
      "[0 1 1 1 1 1 1 1]\n"
     ]
    }
   ],
   "source": [
    "values=[[0,0],[0,1],[1,0],[0,1],[1,1],[2.,2.],[1.3,1.3],[2,4.8]]\n",
    "result=clf.predict(values)\n",
    "print(result)"
   ]
  },
  {
   "cell_type": "code",
   "execution_count": 9,
   "metadata": {},
   "outputs": [
    {
     "name": "stdout",
     "output_type": "stream",
     "text": [
      "[[1.00000000e+00 1.32294200e-88]\n",
      " [5.61163068e-05 9.99943884e-01]\n",
      " [5.61163068e-05 9.99943884e-01]\n",
      " [5.61163068e-05 9.99943884e-01]\n",
      " [5.61163068e-05 9.99943884e-01]\n",
      " [5.61163068e-05 9.99943884e-01]\n",
      " [5.61163068e-05 9.99943884e-01]\n",
      " [5.61163068e-05 9.99943884e-01]]\n"
     ]
    }
   ],
   "source": [
    "prob_results=clf.predict_proba([[0,0],[0,1],[1,0],[0,1],[1,1],[2.,2.],[1.3,1.3],[2,4.8]])\n",
    "print(prob_results)"
   ]
  },
  {
   "cell_type": "code",
   "execution_count": null,
   "metadata": {},
   "outputs": [],
   "source": []
  }
 ],
 "metadata": {
  "kernelspec": {
   "display_name": "Python 3",
   "language": "python",
   "name": "python3"
  },
  "language_info": {
   "codemirror_mode": {
    "name": "ipython",
    "version": 3
   },
   "file_extension": ".py",
   "mimetype": "text/x-python",
   "name": "python",
   "nbconvert_exporter": "python",
   "pygments_lexer": "ipython3",
   "version": "3.7.6"
  }
 },
 "nbformat": 4,
 "nbformat_minor": 5
}
